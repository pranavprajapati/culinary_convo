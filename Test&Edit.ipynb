{
 "cells": [
  {
   "cell_type": "code",
   "execution_count": 6,
   "id": "46fbc668-76b6-478d-8406-70c190cbf309",
   "metadata": {},
   "outputs": [],
   "source": [
    "from IPython.core.interactiveshell import InteractiveShell\n",
    "InteractiveShell.ast_node_interactivity = \"all\""
   ]
  },
  {
   "cell_type": "code",
   "execution_count": 7,
   "id": "4ef90d71-fc1c-4b98-92c8-34c38fe24740",
   "metadata": {},
   "outputs": [],
   "source": [
    "from recipe_scrapers import scrape_me\n"
   ]
  },
  {
   "cell_type": "code",
   "execution_count": 17,
   "id": "239af160-b3cd-4fae-b5f3-2ef49f4e3f42",
   "metadata": {},
   "outputs": [],
   "source": [
    "scraper = scrape_me('https://www.acouplecooks.com/lentil-salad-with-feta/')"
   ]
  },
  {
   "cell_type": "code",
   "execution_count": null,
   "id": "4451a41c-9ddb-49d2-9ae8-d6ac446187a3",
   "metadata": {},
   "outputs": [],
   "source": []
  },
  {
   "cell_type": "code",
   "execution_count": 18,
   "id": "1e650d58-692e-4e21-a290-254be1a3ce06",
   "metadata": {
    "scrolled": true
   },
   "outputs": [
    {
     "data": {
      "text/plain": [
       "'acouplecooks.com'"
      ]
     },
     "execution_count": 18,
     "metadata": {},
     "output_type": "execute_result"
    },
    {
     "data": {
      "text/plain": [
       "'Lentil Salad with Feta'"
      ]
     },
     "execution_count": 18,
     "metadata": {},
     "output_type": "execute_result"
    },
    {
     "data": {
      "text/plain": [
       "30"
      ]
     },
     "execution_count": 18,
     "metadata": {},
     "output_type": "execute_result"
    },
    {
     "data": {
      "text/plain": [
       "'https://www.acouplecooks.com/wp-content/uploads/2019/12/Lentil-Salad-005-225x225.jpg'"
      ]
     },
     "execution_count": 18,
     "metadata": {},
     "output_type": "execute_result"
    },
    {
     "data": {
      "text/plain": [
       "['1 pound black beluga lentils or French lentils',\n",
       " '1 quart vegetable broth+ 2 cups water',\n",
       " '1 teaspoon kosher salt',\n",
       " '1 teaspoon dried thyme',\n",
       " '1/2 teaspoon garlic powder',\n",
       " '2 tablespoons red wine vinegar',\n",
       " '2 tablespoons lemon juice + zest of 1 lemon',\n",
       " '1 teaspoon Dijon mustard',\n",
       " '1/2 teaspoon onion powder',\n",
       " '1 teaspoon dried oregano',\n",
       " '6 tablespoons olive oil',\n",
       " '1 shallot',\n",
       " '1 red pepper',\n",
       " '2 tablespoons chopped fresh mint or chives (optional)',\n",
       " '1/2 teaspoon kosher salt + fresh ground pepper',\n",
       " '1 cup baby arugula, plus more to serve',\n",
       " '1 cup feta cheese crumbles, plus more for garnish',\n",
       " '1/2 cup pistachios, plus more for garnish',\n",
       " '3 radishes, for garnish']"
      ]
     },
     "execution_count": 18,
     "metadata": {},
     "output_type": "execute_result"
    },
    {
     "data": {
      "text/plain": [
       "[IngredientGroup(ingredients=['1 pound black beluga lentils or French lentils', '1 quart vegetable broth+ 2 cups water', '1 teaspoon kosher salt', '1 teaspoon dried thyme', '1/2 teaspoon garlic powder', '2 tablespoons red wine vinegar', '2 tablespoons lemon juice + zest of 1 lemon', '1 teaspoon Dijon mustard', '1/2 teaspoon onion powder', '1 teaspoon dried oregano', '6 tablespoons olive oil', '1 shallot', '1 red pepper', '2 tablespoons chopped fresh mint or chives (optional)', '1/2 teaspoon kosher salt + fresh ground pepper', '1 cup baby arugula, plus more to serve', '1 cup feta cheese crumbles, plus more for garnish', '1/2 cup pistachios, plus more for garnish', '3 radishes, for garnish'], purpose=None)]"
      ]
     },
     "execution_count": 18,
     "metadata": {},
     "output_type": "execute_result"
    },
    {
     "data": {
      "text/plain": [
       "['For the lentils:',\n",
       " 'In a large saucepan or deep skillet, simmer the lentils with the broth, water, kosher salt, thyme, and garlic powder for about 15 to 20 minutes until tender. Drain excess liquid.',\n",
       " 'Make the dressing',\n",
       " 'In a large bowl, whisk together the red wine vinegar, lemon juice, lemon zest, Dijon mustard, onion powder, and oregano. Whisk in the olive oil 1 tablespoon at a time until it’s creamy and emulsified.',\n",
       " 'Chop the veggies',\n",
       " 'Thinly slice the shallot. Thinly slice the red pepper, then cut the slices in half to make pieces about 2-inches long. If using the herbs, chop them.',\n",
       " 'Mix together the salad',\n",
       " 'Place the lentils in the large bowl with the dressing. Add the shallot, pepper, herbs, baby arugula, feta cheese, and pistachios. Add the 1/2 teaspoon kosher salt and fresh ground pepper and mix to combine.',\n",
       " 'Serve',\n",
       " 'If desired, serve over arugula. Garnish with thinly sliced radish, with an additional sprinkle of feta and pistachios. Refrigerate any leftovers for up to 4 days (if you’re planning to make for lunches, omit the pistachios). It saves well and leftovers taste even better!']"
      ]
     },
     "execution_count": 18,
     "metadata": {},
     "output_type": "execute_result"
    },
    {
     "data": {
      "text/plain": [
       "'8 servings'"
      ]
     },
     "execution_count": 18,
     "metadata": {},
     "output_type": "execute_result"
    }
   ],
   "source": [
    "scraper.host()\n",
    "scraper.title()\n",
    "scraper.total_time()\n",
    "scraper.image()\n",
    "scraper.ingredients()\n",
    "scraper.ingredient_groups()\n",
    "# scraper.instructions()\n",
    "scraper.instructions_list()\n",
    "scraper.yields()\n",
    "# scraper.to_json()\n",
    "# scraper.links()\n",
    "# scraper.nutrients()\n"
   ]
  },
  {
   "cell_type": "code",
   "execution_count": 12,
   "id": "4b5e9cd6-d7f0-4246-bda3-e4212d4bcf59",
   "metadata": {},
   "outputs": [
    {
     "name": "stdout",
     "output_type": "stream",
     "text": [
      "0.5 pound black beluga lentils or French lentils\n",
      "0.5 quart vegetable broth+ 2 cups water\n",
      "0.5 teaspoon kosher salt\n",
      "0.5 teaspoon dried thyme\n",
      "0.25 teaspoon garlic powder\n",
      "1.0 tablespoons red wine vinegar\n",
      "1.0 tablespoons lemon juice + zest of 1 lemon\n",
      "0.5 teaspoon Dijon mustard\n",
      "0.25 teaspoon onion powder\n",
      "0.5 teaspoon dried oregano\n",
      "3.0 tablespoons olive oil\n",
      "0.5 shallot\n",
      "0.5 red pepper\n",
      "1.0 tablespoons chopped fresh mint or chives (optional)\n",
      "0.25 teaspoon kosher salt + fresh ground pepper\n",
      "0.5 cup baby arugula, plus more to serve\n",
      "0.5 cup feta cheese crumbles, plus more for garnish\n",
      "0.25 cup pistachios, plus more for garnish\n",
      "1.5 radishes, for garnish\n",
      "\n",
      "Instructions:\n",
      "1. For the lentils:\n",
      "2. In a large saucepan or deep skillet, simmer the lentils with the broth, water, kosher salt, thyme, and garlic powder for about 15 to 20 minutes until tender. Drain excess liquid.\n",
      "3. Make the dressing\n",
      "4. In a large bowl, whisk together the red wine vinegar, lemon juice, lemon zest, Dijon mustard, onion powder, and oregano. Whisk in the olive oil 1 tablespoon at a time until it’s creamy and emulsified.\n",
      "5. Chop the veggies\n",
      "6. Thinly slice the shallot. Thinly slice the red pepper, then cut the slices in half to make pieces about 2-inches long. If using the herbs, chop them.\n",
      "7. Mix together the salad\n",
      "8. Place the lentils in the large bowl with the dressing. Add the shallot, pepper, herbs, baby arugula, feta cheese, and pistachios. Add the 1/2 teaspoon kosher salt and fresh ground pepper and mix to combine.\n",
      "9. Serve\n",
      "10. If desired, serve over arugula. Garnish with thinly sliced radish, with an additional sprinkle of feta and pistachios. Refrigerate any leftovers for up to 4 days (if you’re planning to make for lunches, omit the pistachios). It saves well and leftovers taste even better!\n",
      "\n",
      "Total Time: 30\n",
      "Yield: 8 servings\n",
      "Image: https://www.acouplecooks.com/wp-content/uploads/2019/12/Lentil-Salad-005-225x225.jpg\n",
      "Nutrients: {'calories': '309 calories', 'sugarContent': '2.2 g', 'sodiumContent': '141.3 mg', 'fatContent': '15 g', 'saturatedFatContent': '3.9 g', 'transFatContent': '0 g', 'carbohydrateContent': '31.5 g', 'fiberContent': '5.6 g', 'proteinContent': '14.7 g', 'cholesterolContent': '13.4 mg'}\n"
     ]
    }
   ],
   "source": [
    "from fractions import Fraction\n",
    "from recipe_scrapers import scrape_me\n",
    "\n",
    "def adjust_recipe(link, servings):\n",
    "    # Scrape the recipe data\n",
    "    scraper = scrape_me(link)\n",
    "    recipe_yield = scraper.yields().lower()\n",
    "    \n",
    "    # Extract the number of servings from the recipe yield\n",
    "    yield_words = recipe_yield.split()\n",
    "    if 'servings' in yield_words:\n",
    "        total_servings = int(yield_words[0])\n",
    "    else:\n",
    "        total_servings = 1\n",
    "    \n",
    "    # Calculate the scaling factor for adjusting ingredients\n",
    "    scaling_factor = servings / total_servings\n",
    "    \n",
    "    # Adjust and print the ingredients\n",
    "    for ingredient in scraper.ingredients():\n",
    "        parts = ingredient.split(' ', 1)\n",
    "        if len(parts) > 1:\n",
    "            quantity_str, ingredient_text = parts\n",
    "            try:\n",
    "                quantity = Fraction(quantity_str) * scaling_factor\n",
    "                adjusted_quantity = f\"{quantity} {ingredient_text}\"\n",
    "                print(adjusted_quantity)\n",
    "            except ValueError:\n",
    "                print(ingredient)\n",
    "        else:\n",
    "            print(ingredient)\n",
    "\n",
    "    \n",
    "    \n",
    "    # Print instructions and other recipe details\n",
    "    print(\"\\nInstructions:\")\n",
    "    for index, instruction in enumerate(scraper.instructions_list(), start=1):\n",
    "        print(f\"{index}. {instruction}\")\n",
    "\n",
    "# Example usage\n",
    "recipe_link = 'https://www.acouplecooks.com/lentil-salad-with-feta/'\n",
    "desired_servings = 4\n",
    "adjust_recipe(recipe_link, desired_servings)\n"
   ]
  },
  {
   "cell_type": "code",
   "execution_count": null,
   "id": "3a979b62-dd5c-473e-86c8-3539e2b7731e",
   "metadata": {},
   "outputs": [],
   "source": []
  }
 ],
 "metadata": {
  "kernelspec": {
   "display_name": "Python 3 (ipykernel)",
   "language": "python",
   "name": "python3"
  },
  "language_info": {
   "codemirror_mode": {
    "name": "ipython",
    "version": 3
   },
   "file_extension": ".py",
   "mimetype": "text/x-python",
   "name": "python",
   "nbconvert_exporter": "python",
   "pygments_lexer": "ipython3",
   "version": "3.11.4"
  }
 },
 "nbformat": 4,
 "nbformat_minor": 5
}
