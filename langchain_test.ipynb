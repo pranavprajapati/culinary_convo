{
 "cells": [
  {
   "cell_type": "code",
   "execution_count": 1,
   "metadata": {},
   "outputs": [],
   "source": [
    "import warnings\n",
    "warnings.filterwarnings('ignore')"
   ]
  },
  {
   "cell_type": "code",
   "execution_count": 2,
   "metadata": {},
   "outputs": [],
   "source": [
    "import os\n",
    "import openai\n",
    "\n",
    "from dotenv import load_dotenv, find_dotenv\n",
    "_ = load_dotenv(find_dotenv()) # read local .env file\n",
    "openai.api_key = os.environ['OPENAI_API_KEY']"
   ]
  },
  {
   "cell_type": "code",
   "execution_count": 3,
   "metadata": {},
   "outputs": [],
   "source": [
    "from langchain.llms import OpenAI\n"
   ]
  },
  {
   "cell_type": "code",
   "execution_count": 14,
   "metadata": {},
   "outputs": [],
   "source": [
    "from langchain.chat_models import ChatOpenAI\n",
    "from langchain.chains import ConversationChain\n",
    "from langchain.memory import ConversationBufferMemory\n"
   ]
  },
  {
   "cell_type": "markdown",
   "metadata": {},
   "source": [
    "### LLM CHAIN"
   ]
  },
  {
   "cell_type": "code",
   "execution_count": 24,
   "metadata": {},
   "outputs": [],
   "source": [
    "from langchain import LLMChain, OpenAI, PromptTemplate\n",
    "from langchain.chat_models import ChatOpenAI\n"
   ]
  },
  {
   "cell_type": "code",
   "execution_count": 72,
   "metadata": {},
   "outputs": [],
   "source": [
    "# rep = [\"pomegranate seeds\",\"coriander\"]\n",
    "rep = [\"chicken stock\",\"coriander\",\"apricot\"]"
   ]
  },
  {
   "cell_type": "code",
   "execution_count": 25,
   "metadata": {},
   "outputs": [],
   "source": [
    "llm = ChatOpenAI(temperature=0.6,model_name = \"gpt-3.5-turbo\")"
   ]
  },
  {
   "cell_type": "code",
   "execution_count": 55,
   "metadata": {},
   "outputs": [],
   "source": [
    "# # This is an LLMChain to write a synopsis given a title of a play and the era it is set in.\n",
    "\n",
    "# template = \"\"\"You are an expert chef, specializing in ingredient substitutions. You have the title, \n",
    "# ingredients, and instructions of a specific recipe. The user will provide you with certain ingredients \n",
    "# they wish to replace in this recipe. Your task is to suggest ideal replacements for each specified \n",
    "# ingredient, ensuring that the substitutes belong to the same food group and have a similar flavor profile. \n",
    "# Along with each substitution, please provide a brief explanation as to why the chosen replacement is suitable, \n",
    "# considering factors such as taste, texture, and culinary use. Focus solely on providing ingredient replacements \n",
    "# without altering the original recipe or offering any additional information or guidance.\n",
    "\n",
    "# Title: {title}\n",
    "# Ingredients: {ingredients}\n",
    "# Instructions: {instructions}\n",
    "# Ingredients that require replacement: {replacements}\n",
    "# Suggestions: Here are the suggestions:\"\"\"\n",
    "# prompt_template = PromptTemplate(input_variables=[\"title\", \"ingredients\",\"instructions\",\"replacements\"], template=template)\n",
    "# llm_chain = LLMChain(llm = llm, prompt = prompt_template)\n"
   ]
  },
  {
   "cell_type": "code",
   "execution_count": 56,
   "metadata": {},
   "outputs": [],
   "source": [
    "# suggestions = llm_chain(inputs={\"title\":title,\"ingredients\":ing,\"instructions\":ins,\"replacements\":rep})"
   ]
  },
  {
   "cell_type": "code",
   "execution_count": 57,
   "metadata": {},
   "outputs": [],
   "source": [
    "suggestions = get_suggestions(title,ing,ins,rep)"
   ]
  },
  {
   "cell_type": "code",
   "execution_count": 58,
   "metadata": {},
   "outputs": [
    {
     "name": "stdout",
     "output_type": "stream",
     "text": [
      "- Chicken stock replacement: Vegetable stock\n",
      "  \n",
      "- Explanation: Vegetable stock is a suitable replacement for chicken stock as it belongs to the same food group and provides a similar flavor profile. Both stocks add depth and richness to the dish. Vegetable stock can also enhance the savory notes in the tagine without overpowering the other ingredients.\n",
      "\n",
      "\n",
      "- Coriander replacement: Parsley\n",
      "  \n",
      "- Explanation: Parsley is a suitable replacement for coriander as it belongs to the same herb family and has a similar fresh and slightly citrusy flavor profile. It can provide a similar aromatic and vibrant element to the dish, complementing the other ingredients in the tagine.\n",
      "\n",
      "\n",
      "- Apricot replacement: Dried figs\n",
      "  \n",
      "- Explanation: Dried figs are a suitable replacement for apricots as they belong to the same fruit group and offer a similar sweet and slightly tangy flavor profile. Dried figs will provide a similar burst of sweetness and a pleasant chewy texture, adding depth to the tagine.\n"
     ]
    }
   ],
   "source": [
    "formatted_suggestions = [line for line in suggestions['text'].split('- ') if line.strip()]\n",
    "for topic in formatted_suggestions:\n",
    "    print(f'- {topic}')"
   ]
  },
  {
   "cell_type": "code",
   "execution_count": 18,
   "metadata": {},
   "outputs": [
    {
     "name": "stdout",
     "output_type": "stream",
     "text": [
      "- Ras-el-hanout spice mix: A suitable replacement for ras-el-hanout spice mix would be Moroccan spice blend. This spice blend shares similar flavors and profiles with ras-el-hanout and is commonly used in Moroccan cuisine. It contains a combination of spices like cumin, coriander, ginger, paprika, cinnamon, and cloves, which will provide a similar aromatic and warm flavor to the dish.\n",
      "\n",
      "\n",
      "- Dried apricot: A suitable replacement for dried apricot would be dried figs. Dried figs have a similar sweet and slightly tangy flavor profile to dried apricots and will provide a similar fruity element to the dish. They also have a soft and chewy texture, which will add a pleasant bite to the tagine.\n"
     ]
    }
   ],
   "source": [
    "formatted_suggestions = [line for line in suggestions['text'].split('- ') if line.strip()]\n",
    "for topic in formatted_suggestions:\n",
    "    print(f'- {topic}')"
   ]
  },
  {
   "cell_type": "code",
   "execution_count": 73,
   "metadata": {},
   "outputs": [
    {
     "data": {
      "text/plain": [
       "['Chicken stock replacement: Vegetable stock\\n  ',\n",
       " 'Explanation: Vegetable stock is a suitable replacement for chicken stock as it belongs to the same food group and provides a similar flavor profile. Both stocks add depth and richness to the dish. Vegetable stock can also enhance the savory notes in the tagine without overpowering the other ingredients.\\n\\n',\n",
       " 'Coriander replacement: Parsley\\n  ',\n",
       " 'Explanation: Parsley is a suitable replacement for coriander as it belongs to the same herb family and has a similar fresh and slightly citrusy flavor profile. It can provide a similar aromatic and vibrant element to the dish, complementing the other ingredients in the tagine.\\n\\n',\n",
       " 'Apricot replacement: Dried figs\\n  ',\n",
       " 'Explanation: Dried figs are a suitable replacement for apricots as they belong to the same fruit group and offer a similar sweet and slightly tangy flavor profile. Dried figs will provide a similar burst of sweetness and a pleasant chewy texture, adding depth to the tagine.']"
      ]
     },
     "execution_count": 73,
     "metadata": {},
     "output_type": "execute_result"
    }
   ],
   "source": [
    "formatted_suggestions"
   ]
  },
  {
   "cell_type": "code",
   "execution_count": null,
   "metadata": {},
   "outputs": [],
   "source": []
  },
  {
   "cell_type": "code",
   "execution_count": null,
   "metadata": {},
   "outputs": [],
   "source": []
  },
  {
   "cell_type": "code",
   "execution_count": 16,
   "metadata": {},
   "outputs": [],
   "source": [
    "def get_suggestions(title,ing,ins,rep):\n",
    "\n",
    "    llm = ChatOpenAI(temperature=0.6,model_name = \"gpt-3.5-turbo\")\n",
    "\n",
    "    template = \"\"\"You are an expert chef, specializing in ingredient substitutions. You have the title, \n",
    "    ingredients, and instructions of a specific recipe. The user will provide you with certain ingredients \n",
    "    they wish to replace in this recipe. Your task is to suggest ideal replacements for each specified \n",
    "    ingredient, ensuring that the substitutes belong to the same food group and have a similar flavor profile. \n",
    "    Along with each substitution, please provide a brief explanation as to why the chosen replacement is suitable, \n",
    "    considering factors such as taste, texture, and culinary use. Focus solely on providing ingredient replacements \n",
    "    without altering the original recipe or offering any additional information or guidance.\n",
    "\n",
    "    Title: {title}\n",
    "    Ingredients: {ingredients}\n",
    "    Instructions: {instructions}\n",
    "    Ingredients that require replacement: {replacements}\n",
    "    Suggestions: Here are the suggestions:\"\"\"\n",
    "    \n",
    "    prompt_template = PromptTemplate(input_variables=[\"title\", \"ingredients\",\"instructions\",\"replacements\"], template=template)\n",
    "    \n",
    "    llm_chain = LLMChain(llm = llm, prompt = prompt_template)\n",
    "\n",
    "    output = llm_chain(inputs={\"title\":title,\"ingredients\":ing,\"instructions\":ins,\"replacements\":rep})\n",
    "\n",
    "    return output"
   ]
  },
  {
   "cell_type": "code",
   "execution_count": null,
   "metadata": {},
   "outputs": [],
   "source": []
  },
  {
   "cell_type": "code",
   "execution_count": 60,
   "metadata": {},
   "outputs": [],
   "source": [
    "def replace_ingredients(output, ingredients, replacement_list):\n",
    "    # Iterate through the replacement list\n",
    "    for initial_ingredient in replacement_list:\n",
    "        # Check if the initial ingredient is mentioned in any of the sentences in the output\n",
    "        for sentence in output:\n",
    "            if initial_ingredient.lower() in sentence.lower():\n",
    "                # Extract the replacement ingredient from the sentence\n",
    "                replacement = sentence.split(\":\")[1].split(\".\")[0].strip().lower()\n",
    "                if 'could be' in replacement:\n",
    "                    replacement = replacement.split('could be')[1].strip()\n",
    "                elif 'would be' in replacement:\n",
    "                    replacement = replacement.split('would be')[1].strip()\n",
    "                # Replace the initial ingredient with the replacement ingredient in the original ingredients list\n",
    "                ingredients = [ingredient.lower().replace(initial_ingredient.lower(), replacement) for ingredient in ingredients]\n",
    "                break  # Move to the next initial ingredient\n",
    "    return ingredients"
   ]
  },
  {
   "cell_type": "code",
   "execution_count": 74,
   "metadata": {},
   "outputs": [],
   "source": [
    "new_ingredients = replace_ingredients(formatted_suggestions, ing, rep)"
   ]
  },
  {
   "cell_type": "code",
   "execution_count": 6,
   "metadata": {},
   "outputs": [
    {
     "data": {
      "text/plain": [
       "['2 tbsp olive oil',\n",
       " '500g lean diced lamb',\n",
       " '1 large onion, roughly chopped',\n",
       " '2 large carrots, quartered lengthways and cut into chunks',\n",
       " '2 garlic cloves, finely chopped',\n",
       " '2 tbsp ras-el-hanout spice mix',\n",
       " '400g can chopped tomato',\n",
       " '400g can chickpea, rinsed and drained',\n",
       " '200g dried dried figs',\n",
       " '600ml vegetable stock',\n",
       " '120g pack pomegranate seeds',\n",
       " '2 large handfuls parsley, roughly chopped']"
      ]
     },
     "execution_count": 6,
     "metadata": {},
     "output_type": "execute_result"
    }
   ],
   "source": [
    "new_ingredients "
   ]
  },
  {
   "cell_type": "code",
   "execution_count": 7,
   "metadata": {},
   "outputs": [],
   "source": [
    "message = '\\n'.join(new_ingredients)"
   ]
  },
  {
   "cell_type": "code",
   "execution_count": 10,
   "metadata": {},
   "outputs": [],
   "source": [
    "from datetime import datetime\n",
    "import pywhatkit\n",
    "import time,webbrowser,pyautogui"
   ]
  },
  {
   "cell_type": "code",
   "execution_count": null,
   "metadata": {},
   "outputs": [],
   "source": [
    "# pywhatkit.sendwhatmsg_to_group_instantly(group_link, message)"
   ]
  },
  {
   "cell_type": "code",
   "execution_count": 12,
   "metadata": {},
   "outputs": [],
   "source": [
    "\n",
    "group_link = \"\""
   ]
  },
  {
   "cell_type": "code",
   "execution_count": null,
   "metadata": {},
   "outputs": [],
   "source": []
  },
  {
   "cell_type": "markdown",
   "metadata": {},
   "source": [
    "# BLOG"
   ]
  },
  {
   "cell_type": "code",
   "execution_count": 15,
   "metadata": {},
   "outputs": [],
   "source": []
  },
  {
   "cell_type": "code",
   "execution_count": 5,
   "metadata": {},
   "outputs": [],
   "source": [
    "import pandas as pd"
   ]
  },
  {
   "cell_type": "code",
   "execution_count": 60,
   "metadata": {},
   "outputs": [],
   "source": [
    "# Read the CSV file with tab separator\n",
    "# df = pd.read_csv('en.openfoodfacts.org.products.csv', sep='\\t', encoding='utf-8')"
   ]
  },
  {
   "cell_type": "code",
   "execution_count": 6,
   "metadata": {},
   "outputs": [],
   "source": [
    "# df = df.dropna(subset=['product_name'])"
   ]
  },
  {
   "cell_type": "code",
   "execution_count": 7,
   "metadata": {},
   "outputs": [],
   "source": [
    "# df['product_name'].nunique()"
   ]
  },
  {
   "cell_type": "code",
   "execution_count": 8,
   "metadata": {},
   "outputs": [],
   "source": [
    "# all_products = df['product_name'].unique()"
   ]
  },
  {
   "cell_type": "code",
   "execution_count": 9,
   "metadata": {},
   "outputs": [],
   "source": [
    "# all_products_df = pd.DataFrame(all_products, columns=['product_name'])\n",
    "# all_products_df.to_csv('all_products.csv', index=False)"
   ]
  },
  {
   "cell_type": "code",
   "execution_count": null,
   "metadata": {},
   "outputs": [],
   "source": []
  },
  {
   "cell_type": "code",
   "execution_count": 65,
   "metadata": {},
   "outputs": [],
   "source": [
    "# ingredients_input = \"cookie',milk\""
   ]
  },
  {
   "cell_type": "code",
   "execution_count": 66,
   "metadata": {},
   "outputs": [
    {
     "data": {
      "text/plain": [
       "str"
      ]
     },
     "execution_count": 66,
     "metadata": {},
     "output_type": "execute_result"
    }
   ],
   "source": [
    "# type(ingredients_input)\n"
   ]
  },
  {
   "cell_type": "code",
   "execution_count": 12,
   "metadata": {},
   "outputs": [],
   "source": [
    "ingredients_input = \"1 tsp butter, 2 cookies\""
   ]
  },
  {
   "cell_type": "code",
   "execution_count": 21,
   "metadata": {},
   "outputs": [
    {
     "data": {
      "text/plain": [
       "['butter', 'cookies']"
      ]
     },
     "execution_count": 21,
     "metadata": {},
     "output_type": "execute_result"
    }
   ],
   "source": [
    "[item.split()[-1] for item in ingredients_input.split(',')]"
   ]
  },
  {
   "cell_type": "code",
   "execution_count": 15,
   "metadata": {},
   "outputs": [
    {
     "data": {
      "text/plain": [
       "['2 cookies']"
      ]
     },
     "execution_count": 15,
     "metadata": {},
     "output_type": "execute_result"
    }
   ],
   "source": [
    "[item.strip() for item in ingredients_input.split(',')]] "
   ]
  },
  {
   "cell_type": "code",
   "execution_count": 72,
   "metadata": {},
   "outputs": [],
   "source": [
    "def check_ingredients(ingredients_input):\n",
    "    all_products_loaded_df = pd.read_csv('all_products.csv')\n",
    "    all_products_loaded = all_products_loaded_df['product_name'].values\n",
    "    ingredients_list = [item.strip().lower() for item in ingredients_input] \n",
    "    return all(any(ingredient in product for product in all_products_loaded) for ingredient in ingredients_list)\n"
   ]
  },
  {
   "cell_type": "code",
   "execution_count": 73,
   "metadata": {
    "scrolled": true
   },
   "outputs": [
    {
     "data": {
      "text/plain": [
       "True"
      ]
     },
     "execution_count": 73,
     "metadata": {},
     "output_type": "execute_result"
    }
   ],
   "source": [
    "check_ingredients(ingredients_input)"
   ]
  },
  {
   "cell_type": "code",
   "execution_count": 19,
   "metadata": {},
   "outputs": [],
   "source": [
    "from langchain.prompts import ChatPromptTemplate"
   ]
  },
  {
   "cell_type": "code",
   "execution_count": null,
   "metadata": {},
   "outputs": [],
   "source": []
  },
  {
   "cell_type": "code",
   "execution_count": null,
   "metadata": {},
   "outputs": [],
   "source": []
  },
  {
   "cell_type": "code",
   "execution_count": 37,
   "metadata": {},
   "outputs": [],
   "source": [
    "## Router Chain\n",
    "\n",
    "comfort_template = \"\"\"\n",
    "You are an expert food blogger, who values family traditions and comfort cooking.\\\n",
    "The user has provided the title, ingredients, and instructions for a specific recipe. The user will also provide some \\\n",
    "Create a heartfelt 300-word blog post focusing on family memories, passed-down secrets, and the joy of bonding over cooking. \\\n",
    "The post should concentrate on the narrative and not include the recipe details.\n",
    "\n",
    "\n",
    "Title: {title}\n",
    "Ingredients: {ingredients}\n",
    "Instructions: {instructions}\n",
    "\n",
    "Write Blog Post:\n",
    "\"\"\"\n",
    "\n",
    "\n",
    "seasonal_farm_two_table_template = \"\"\"\n",
    "You are an expert food blogger, passionate about seasonal and farm-to-table cuisine. \\\n",
    "The user has provided the title, ingredients, and instructions for a specific recipe. User also talks about \\\n",
    "Compose a 300-word blog post highlighting the seasonality of the ingredients and the farm-to-table philosophy.\\\n",
    "Discuss freshness, support for local farmers, and seasonal availability. \\\n",
    "The post should consist solely of the narrative, without the recipe details.\n",
    "\n",
    "Title: {title}\n",
    "Ingredients: {ingredients}\n",
    "Instructions: {instructions}\n",
    "\n",
    "Write Blog Post:\n",
    "\"\"\"\n",
    "\n",
    "healthy_living_template = \"\"\"\n",
    "You are an expert food blogger, with a focus on healthy living and nutrition.\\\n",
    "The user has provided the title, ingredients, and instructions for a specific recipe.\\\n",
    "Craft a 300-word blog post emphasizing its nutritional benefits and alignment with a healthy lifestyle.\\\n",
    "Explore aspects such as nutritional value, diet-friendly variations, and organic ingredient options. \\\n",
    "The post should contain only the narrative, excluding the recipe details.\n",
    "\n",
    "    Title: {title}\n",
    "    Ingredients: {ingredients}\n",
    "    Instructions: {instructions}\n",
    "\n",
    "Write Blog Post:\n",
    "\"\"\"\n",
    "\n",
    "\n",
    "cultural_exploration_template = \"\"\" \n",
    "You are an expert food blogger, specializing in culinary cultural exploration. \\\n",
    "The user has provided the title, ingredients, and instructions for a specific recipe. \\\n",
    "Your task is to write a concise 300-word blog post focusing on its cultural origins and significance.\\\n",
    "Delve into the history, traditional cooking methods, and cultural variations of the dish.\\\n",
    "Please note that the blog post should only include the narrative and not the recipe details.\n",
    "\n",
    "Title: {title}\n",
    "Ingredients: {ingredients}\n",
    "Instructions: {instructions}\n",
    "\n",
    "Write Blog Post:\n",
    "\"\"\""
   ]
  },
  {
   "cell_type": "code",
   "execution_count": 38,
   "metadata": {},
   "outputs": [],
   "source": [
    "# theme = [\"Cultural Exploration\", \"Healthy Living and Nutritional Focus\", \"Seasonal and Farm-to-Table Experience\",\"Family and Comfort Cooking\"]"
   ]
  },
  {
   "cell_type": "code",
   "execution_count": 39,
   "metadata": {},
   "outputs": [],
   "source": [
    "theme_templates = {\n",
    "    \"Cultural Exploration\": cultural_exploration_template,\n",
    "    \"Healthy Living and Nutritional Focus\": healthy_living_template,\n",
    "    \"Seasonal and Farm-to-Table Experience\": seasonal_farm_two_table_template,\n",
    "    \"Family and Comfort Cooking\": comfort_template\n",
    "}\n"
   ]
  },
  {
   "cell_type": "code",
   "execution_count": 50,
   "metadata": {},
   "outputs": [],
   "source": [
    "selected_theme = \"Healthy Living and Nutritional Focus\""
   ]
  },
  {
   "cell_type": "code",
   "execution_count": null,
   "metadata": {},
   "outputs": [],
   "source": []
  },
  {
   "cell_type": "code",
   "execution_count": 41,
   "metadata": {},
   "outputs": [],
   "source": [
    "title = \"Sautéed Spinach\""
   ]
  },
  {
   "cell_type": "code",
   "execution_count": 42,
   "metadata": {},
   "outputs": [],
   "source": [
    "ing = \"1 pounds fresh spinach,2 tablespoons olive oil,1 garlic\"\n",
    "ins = \"Discard blemished spinach leaves and tough stems. Rinse the spinach and drain well.Heat the oil in a skillet large enough to hold all the spinach. Add the spinach, garlic, salt and pepper. Cook over high heat, stirring rapidly, until the spinach is wilted and most of the moisture has evaporated. Remove the garlic and serve immediately.\"\n",
    "theme = \"Healthy Living and Nutritional Focus\""
   ]
  },
  {
   "cell_type": "code",
   "execution_count": 51,
   "metadata": {},
   "outputs": [],
   "source": [
    "def generate_blog_post(title,ing,ins,selected_theme):\n",
    "    selected_template = theme_templates[theme]\n",
    "    prompt_template = PromptTemplate(input_variables=[\"title\", \"ingredients\",\"instructions\"], template=selected_template)\n",
    "    llm_chain = LLMChain(llm = llm, prompt = prompt_template)\n",
    "    output = llm_chain(inputs={\"title\":title,\"ingredients\":ing,\"instructions\":ins})\n",
    "    return output"
   ]
  },
  {
   "cell_type": "code",
   "execution_count": 52,
   "metadata": {},
   "outputs": [],
   "source": [
    "blog_post = generate_blog_post(title,ing,ins,theme)"
   ]
  },
  {
   "cell_type": "code",
   "execution_count": 53,
   "metadata": {},
   "outputs": [
    {
     "data": {
      "text/plain": [
       "\"When it comes to incorporating nutritious and delicious greens into our diet, spinach is a clear winner. Today, I want to share with you a simple yet incredibly flavorful recipe for sautéed spinach that will not only tantalize your taste buds but also provide you with a wide range of health benefits.\\n\\nSpinach is a powerhouse of nutrients, packed with vitamins A, C, and K, as well as folate, iron, and calcium. These essential vitamins and minerals are crucial for maintaining healthy bones, boosting our immune system, and promoting overall well-being. By including spinach in our diet, we can improve our cardiovascular health, lower blood pressure, and reduce the risk of developing chronic diseases such as diabetes and certain types of cancer.\\n\\nThe beauty of this sautéed spinach recipe lies in its simplicity. With just a few ingredients and minimal cooking time, you can create a flavorful side dish that complements any main course. To make it even more diet-friendly, you can use a light cooking spray instead of olive oil, reducing the calorie content without compromising on taste. Additionally, if you are following a low-sodium diet, you can adjust the amount of salt or omit it altogether, as spinach already has a naturally savory flavor.\\n\\nFor those who prefer organic ingredients, incorporating organic spinach into this recipe is a fantastic option. Organic spinach is grown without the use of synthetic pesticides or fertilizers, ensuring that you are consuming a cleaner and more environmentally friendly product. By choosing organic, you are not only prioritizing your health but also supporting sustainable farming practices.\\n\\nSo, the next time you are looking for a quick and nutritious side dish, give this sautéed spinach recipe a try. Not only will it add vibrant color to your plate, but it will also provide you with an array of vitamins and minerals that will nourish your body. Remember, healthy eating doesn't have to be complicated; sometimes, the simplest recipes are the most beneficial.\""
      ]
     },
     "execution_count": 53,
     "metadata": {},
     "output_type": "execute_result"
    }
   ],
   "source": [
    "blog_post['text']"
   ]
  },
  {
   "cell_type": "code",
   "execution_count": 46,
   "metadata": {},
   "outputs": [
    {
     "data": {
      "text/plain": [
       "\"When it comes to incorporating nutrient-dense foods into your diet, spinach should be at the top of your list. This leafy green is not only delicious, but it also offers a wide array of health benefits that can support your journey towards a healthy lifestyle.\\n\\nOne of the easiest and tastiest ways to enjoy spinach is through sautéing. This simple cooking method helps to retain the nutritional value of the spinach while adding a burst of flavor. With just a few ingredients and a quick cooking time, you can have a vibrant and nutritious side dish ready in no time.\\n\\nSpinach is packed with essential vitamins and minerals that are crucial for optimal health. It is an excellent source of vitamin K, which plays a vital role in blood clotting and bone health. Additionally, spinach contains high levels of vitamin A, which is essential for maintaining healthy vision and a robust immune system.\\n\\nFor those following a specific diet or looking to make healthier choices, sautéed spinach can easily be modified to suit your needs. If you're following a low-carb or keto diet, you can use avocado oil instead of olive oil for a healthier fat option. For those watching their sodium intake, you can reduce or eliminate the added salt and rely on the natural flavors of the spinach and garlic to enhance the dish.\\n\\nTo take your sautéed spinach to the next level, consider using organic ingredients. By choosing organic spinach, you can ensure that you are consuming a product free from harmful pesticides and chemicals. Organic olive oil and garlic can also provide peace of mind, knowing that you are nourishing your body with wholesome, natural ingredients.\\n\\nIn conclusion, sautéed spinach is a fantastic addition to any healthy eating plan. Its nutritional value, versatility, and ease of preparation make it a go-to choice for those seeking a nutrient-dense side dish. Whether you're following a specific diet or simply looking to incorporate more greens into your meals, sautéed spinach is a delicious and nourishing option that will support your journey towards a healthier you.\""
      ]
     },
     "execution_count": 46,
     "metadata": {},
     "output_type": "execute_result"
    }
   ],
   "source": [
    "blog_post['text']"
   ]
  },
  {
   "cell_type": "code",
   "execution_count": null,
   "metadata": {},
   "outputs": [],
   "source": []
  },
  {
   "cell_type": "code",
   "execution_count": 48,
   "metadata": {},
   "outputs": [],
   "source": [
    "bl = [line for line in blog_post['text'].split('- ') if line.strip()]"
   ]
  },
  {
   "cell_type": "code",
   "execution_count": 49,
   "metadata": {},
   "outputs": [
    {
     "name": "stdout",
     "output_type": "stream",
     "text": [
      "When it comes to incorporating nutrient-dense foods into your diet, spinach should be at the top of your list. This leafy green is not only delicious, but it also offers a wide array of health benefits that can support your journey towards a healthy lifestyle.\n",
      "\n",
      "One of the easiest and tastiest ways to enjoy spinach is through sautéing. This simple cooking method helps to retain the nutritional value of the spinach while adding a burst of flavor. With just a few ingredients and a quick cooking time, you can have a vibrant and nutritious side dish ready in no time.\n",
      "\n",
      "Spinach is packed with essential vitamins and minerals that are crucial for optimal health. It is an excellent source of vitamin K, which plays a vital role in blood clotting and bone health. Additionally, spinach contains high levels of vitamin A, which is essential for maintaining healthy vision and a robust immune system.\n",
      "\n",
      "For those following a specific diet or looking to make healthier choices, sautéed spinach can easily be modified to suit your needs. If you're following a low-carb or keto diet, you can use avocado oil instead of olive oil for a healthier fat option. For those watching their sodium intake, you can reduce or eliminate the added salt and rely on the natural flavors of the spinach and garlic to enhance the dish.\n",
      "\n",
      "To take your sautéed spinach to the next level, consider using organic ingredients. By choosing organic spinach, you can ensure that you are consuming a product free from harmful pesticides and chemicals. Organic olive oil and garlic can also provide peace of mind, knowing that you are nourishing your body with wholesome, natural ingredients.\n",
      "\n",
      "In conclusion, sautéed spinach is a fantastic addition to any healthy eating plan. Its nutritional value, versatility, and ease of preparation make it a go-to choice for those seeking a nutrient-dense side dish. Whether you're following a specific diet or simply looking to incorporate more greens into your meals, sautéed spinach is a delicious and nourishing option that will support your journey towards a healthier you.\n"
     ]
    }
   ],
   "source": [
    "for line in bl:\n",
    "    print(line)"
   ]
  },
  {
   "cell_type": "code",
   "execution_count": null,
   "metadata": {},
   "outputs": [],
   "source": []
  }
 ],
 "metadata": {
  "kernelspec": {
   "display_name": "Python 3 (ipykernel)",
   "language": "python",
   "name": "python3"
  },
  "language_info": {
   "codemirror_mode": {
    "name": "ipython",
    "version": 3
   },
   "file_extension": ".py",
   "mimetype": "text/x-python",
   "name": "python",
   "nbconvert_exporter": "python",
   "pygments_lexer": "ipython3",
   "version": "3.11.4"
  }
 },
 "nbformat": 4,
 "nbformat_minor": 4
}
